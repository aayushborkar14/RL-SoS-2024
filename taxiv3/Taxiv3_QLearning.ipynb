{
  "nbformat": 4,
  "nbformat_minor": 0,
  "metadata": {
    "colab": {
      "provenance": []
    },
    "kernelspec": {
      "name": "python3",
      "display_name": "Python 3"
    },
    "language_info": {
      "name": "python"
    }
  },
  "cells": [
    {
      "cell_type": "code",
      "execution_count": 1,
      "metadata": {
        "colab": {
          "base_uri": "https://localhost:8080/"
        },
        "id": "mD8mYhpgE07l",
        "outputId": "6ef95f0f-9c25-4073-86a5-068b2d3af2d8"
      },
      "outputs": [
        {
          "output_type": "stream",
          "name": "stdout",
          "text": [
            "Requirement already satisfied: gymnasium in /usr/local/lib/python3.10/dist-packages (0.29.1)\n",
            "Requirement already satisfied: numpy>=1.21.0 in /usr/local/lib/python3.10/dist-packages (from gymnasium) (1.26.4)\n",
            "Requirement already satisfied: cloudpickle>=1.2.0 in /usr/local/lib/python3.10/dist-packages (from gymnasium) (2.2.1)\n",
            "Requirement already satisfied: typing-extensions>=4.3.0 in /usr/local/lib/python3.10/dist-packages (from gymnasium) (4.12.2)\n",
            "Requirement already satisfied: farama-notifications>=0.0.1 in /usr/local/lib/python3.10/dist-packages (from gymnasium) (0.0.4)\n",
            "Requirement already satisfied: moviepy in /usr/local/lib/python3.10/dist-packages (1.0.3)\n",
            "Requirement already satisfied: decorator<5.0,>=4.0.2 in /usr/local/lib/python3.10/dist-packages (from moviepy) (4.4.2)\n",
            "Requirement already satisfied: tqdm<5.0,>=4.11.2 in /usr/local/lib/python3.10/dist-packages (from moviepy) (4.66.5)\n",
            "Requirement already satisfied: requests<3.0,>=2.8.1 in /usr/local/lib/python3.10/dist-packages (from moviepy) (2.32.3)\n",
            "Requirement already satisfied: proglog<=1.0.0 in /usr/local/lib/python3.10/dist-packages (from moviepy) (0.1.10)\n",
            "Requirement already satisfied: numpy>=1.17.3 in /usr/local/lib/python3.10/dist-packages (from moviepy) (1.26.4)\n",
            "Requirement already satisfied: imageio<3.0,>=2.5 in /usr/local/lib/python3.10/dist-packages (from moviepy) (2.35.1)\n",
            "Requirement already satisfied: imageio-ffmpeg>=0.2.0 in /usr/local/lib/python3.10/dist-packages (from moviepy) (0.5.1)\n",
            "Requirement already satisfied: pillow>=8.3.2 in /usr/local/lib/python3.10/dist-packages (from imageio<3.0,>=2.5->moviepy) (10.4.0)\n",
            "Requirement already satisfied: setuptools in /usr/local/lib/python3.10/dist-packages (from imageio-ffmpeg>=0.2.0->moviepy) (71.0.4)\n",
            "Requirement already satisfied: charset-normalizer<4,>=2 in /usr/local/lib/python3.10/dist-packages (from requests<3.0,>=2.8.1->moviepy) (3.3.2)\n",
            "Requirement already satisfied: idna<4,>=2.5 in /usr/local/lib/python3.10/dist-packages (from requests<3.0,>=2.8.1->moviepy) (3.10)\n",
            "Requirement already satisfied: urllib3<3,>=1.21.1 in /usr/local/lib/python3.10/dist-packages (from requests<3.0,>=2.8.1->moviepy) (2.2.3)\n",
            "Requirement already satisfied: certifi>=2017.4.17 in /usr/local/lib/python3.10/dist-packages (from requests<3.0,>=2.8.1->moviepy) (2024.8.30)\n"
          ]
        }
      ],
      "source": [
        "!pip install gymnasium\n",
        "!pip install moviepy"
      ]
    },
    {
      "cell_type": "code",
      "source": [
        "import random\n",
        "import time\n",
        "\n",
        "import gymnasium as gym\n",
        "import numpy as np\n",
        "import moviepy.editor as mpy\n",
        "from tqdm import trange"
      ],
      "metadata": {
        "id": "LSTdmoTxFDq5"
      },
      "execution_count": 2,
      "outputs": []
    },
    {
      "cell_type": "code",
      "source": [
        "env = gym.make('Taxi-v3', render_mode='rgb_array')"
      ],
      "metadata": {
        "id": "XXUb4EepFL18"
      },
      "execution_count": 3,
      "outputs": []
    },
    {
      "cell_type": "code",
      "source": [
        "state_space = env.observation_space.n\n",
        "print(f\"Possible states: {state_space}\")\n",
        "action_space = env.action_space.n\n",
        "print(f\"Possible actions: {action_space}\")"
      ],
      "metadata": {
        "colab": {
          "base_uri": "https://localhost:8080/"
        },
        "id": "dkC_F2Y6FNl8",
        "outputId": "c6c66267-34e8-4a79-99d6-8c0ab5a90399"
      },
      "execution_count": 4,
      "outputs": [
        {
          "output_type": "stream",
          "name": "stdout",
          "text": [
            "Possible states: 500\n",
            "Possible actions: 6\n"
          ]
        }
      ]
    },
    {
      "cell_type": "code",
      "source": [
        "# Hyperparameters\n",
        "total_episodes = 25000\n",
        "total_test_episodes = 10\n",
        "max_steps = 200\n",
        "\n",
        "learning_rate = 0.01\n",
        "gamma = 0.99\n",
        "\n",
        "# Exploration parameters\n",
        "epsilon = 1.0\n",
        "max_epsilon = 1.0\n",
        "min_epsilon = 0.001\n",
        "decay_rate = 0.01"
      ],
      "metadata": {
        "id": "8m9v8POoFYd-"
      },
      "execution_count": 5,
      "outputs": []
    },
    {
      "cell_type": "code",
      "source": [
        "def epsilon_greedy_policy(Q, state):\n",
        "  if(random.uniform(0,1) > epsilon):\n",
        "    return np.argmax(Q[state]) # exploit\n",
        "  return env.action_space.sample() # explore"
      ],
      "metadata": {
        "id": "FqcPKqe0FkVI"
      },
      "execution_count": 6,
      "outputs": []
    },
    {
      "cell_type": "code",
      "source": [
        " Q = np.zeros((state_space, action_space))\n",
        " for episode in range(total_episodes):\n",
        "    state, _ = env.reset()\n",
        "    step = 0\n",
        "    done = False\n",
        "\n",
        "    epsilon = min_epsilon + (max_epsilon - min_epsilon)*np.exp(-decay_rate*episode)\n",
        "\n",
        "    for step in range(max_steps):\n",
        "        action = epsilon_greedy_policy(Q, state)\n",
        "        observation, reward, terminated, truncated, info = env.step(action)\n",
        "        done = terminated or truncated\n",
        "        Q[state][action] = Q[state][action] + learning_rate * (reward + gamma *\n",
        "                                    np.max(Q[observation]) - Q[state][action])\n",
        "        if done:\n",
        "            break\n",
        "        state = observation"
      ],
      "metadata": {
        "id": "Grco1P_2F21p"
      },
      "execution_count": 7,
      "outputs": []
    },
    {
      "cell_type": "code",
      "source": [
        "rewards = []\n",
        "frames = []\n",
        "\n",
        "for episode in trange(total_test_episodes):\n",
        "    state, _ = env.reset()\n",
        "    step = 0\n",
        "    done = False\n",
        "    total_rewards = 0\n",
        "\n",
        "    for step in range(max_steps):\n",
        "        # Render the environment and store the frame\n",
        "        frame = env.render()\n",
        "        frames.append(frame)\n",
        "\n",
        "        # Take the action with the maximum expected future reward\n",
        "        action = np.argmax(Q[state][:])\n",
        "        observation, reward, terminated, truncated, info = env.step(action)\n",
        "        done = terminated or truncated\n",
        "\n",
        "        total_rewards += reward\n",
        "\n",
        "        if done:\n",
        "            rewards.append(total_rewards)\n",
        "            break\n",
        "\n",
        "        state = observation\n",
        "\n",
        "env.close()\n",
        "\n",
        "print(\"Score over time: \" + str(sum(rewards)/total_test_episodes))\n",
        "\n",
        "clip = mpy.ImageSequenceClip(frames, fps=5)\n",
        "clip.write_videofile(\"taxi_v3_test.mp4\")"
      ],
      "metadata": {
        "colab": {
          "base_uri": "https://localhost:8080/"
        },
        "id": "xcorNCSOGDGC",
        "outputId": "7644c4c6-52b8-4ca9-bbac-4fc274791950"
      },
      "execution_count": 8,
      "outputs": [
        {
          "output_type": "stream",
          "name": "stderr",
          "text": [
            "100%|██████████| 10/10 [00:01<00:00,  5.78it/s]\n"
          ]
        },
        {
          "output_type": "stream",
          "name": "stdout",
          "text": [
            "Score over time: 7.8\n",
            "Moviepy - Building video taxi_v3_test.mp4.\n",
            "Moviepy - Writing video taxi_v3_test.mp4\n",
            "\n"
          ]
        },
        {
          "output_type": "stream",
          "name": "stderr",
          "text": []
        },
        {
          "output_type": "stream",
          "name": "stdout",
          "text": [
            "Moviepy - Done !\n",
            "Moviepy - video ready taxi_v3_test.mp4\n"
          ]
        }
      ]
    }
  ]
}